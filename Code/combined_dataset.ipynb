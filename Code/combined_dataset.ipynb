{
 "cells": [
  {
   "cell_type": "code",
   "execution_count": 1,
   "metadata": {},
   "outputs": [],
   "source": [
    "from IPython.core.interactiveshell import InteractiveShell\n",
    "InteractiveShell.ast_node_interactivity = \"all\"\n",
    "\n",
    "import pandas as pd\n",
    "import os"
   ]
  },
  {
   "cell_type": "markdown",
   "metadata": {},
   "source": [
    "# UK Police Dataset\n",
    "\n",
    "The police dataset contains folders for every month for the years 2017-2020. Inside each of those folders are several files containing several files on \"stop and search.\"\n",
    "\n",
    "For this next part we are iterating through the folders and their files and writing them to a dataframe. After combining all of the data into one dataframe we cleaned it and created a new csv file for everyone to use and manipulate."
   ]
  },
  {
   "cell_type": "code",
   "execution_count": 2,
   "metadata": {},
   "outputs": [],
   "source": [
    "# List to hold dataframes\n",
    "df_list = []\n",
    "\n",
    "# Going into police directory\n",
    "for file in os.listdir(\"police\"):\n",
    "    # Going into police/filename directory\n",
    "    for file2 in os.listdir(\"police/\" + file):\n",
    "        df = pd.read_csv(\"police/\" + file + \"/\" + file2) # read the file in police/file/name of the csv\n",
    "        df_list.append(df) # Append to a list"
   ]
  },
  {
   "cell_type": "code",
   "execution_count": null,
   "metadata": {},
   "outputs": [],
   "source": [
    "# Concatenate the list of dataframes into one\n",
    "df = pd.concat(df_list)\n",
    "\n",
    "# Dropping the 'Part of a policing operation' and 'Outcome linked to object of search' and 'Policing operation' column\n",
    "df = df.drop(columns=['Part of a policing operation', 'Outcome linked to object of search', 'Policing operation'])\n",
    "\n",
    "# Converting the 'Date' column into datetime format\n",
    "df['Date'] = pd.to_datetime(df['Date'])\n",
    "\n",
    "df.to_csv('stop_and_search.csv', index=False) # create a csv for the dataframe"
   ]
  },
  {
   "cell_type": "code",
   "execution_count": null,
   "metadata": {},
   "outputs": [],
   "source": []
  }
 ],
 "metadata": {
  "kernelspec": {
   "display_name": "Python 3",
   "language": "python",
   "name": "python3"
  },
  "language_info": {
   "codemirror_mode": {
    "name": "ipython",
    "version": 3
   },
   "file_extension": ".py",
   "mimetype": "text/x-python",
   "name": "python",
   "nbconvert_exporter": "python",
   "pygments_lexer": "ipython3",
   "version": "3.7.6"
  }
 },
 "nbformat": 4,
 "nbformat_minor": 4
}
