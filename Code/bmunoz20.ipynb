{
 "cells": [
  {
   "cell_type": "code",
   "execution_count": null,
   "metadata": {},
   "outputs": [],
   "source": [
    "from IPython.core.interactiveshell import InteractiveShell\n",
    "InteractiveShell.ast_node_interactivity = \"all\"\n",
    "\n",
    "import pandas as pd\n",
    "import numpy as np\n",
    "import datetime\n",
    "from folium import LayerControl, Map, Marker, FeatureGroup, Icon\n",
    "from folium.plugins import FastMarkerCluster\n",
    "import matplotlib.pyplot as plt\n",
    "%matplotlib inline"
   ]
  },
  {
   "cell_type": "markdown",
   "metadata": {},
   "source": [
    "# Stop and Search dataset contains data for the following dates:\n",
    "## March/2017 - February/2020"
   ]
  },
  {
   "cell_type": "code",
   "execution_count": null,
   "metadata": {},
   "outputs": [],
   "source": [
    "# read in the combined and cleaned dataframe\n",
    "df = pd.read_csv('stop_and_search.csv')"
   ]
  },
  {
   "cell_type": "markdown",
   "metadata": {},
   "source": [
    "# What ethnicities are stopped and searched more often? Is there a large gap between the counts of one ethnicity being stopped over another?\n",
    "\n",
    "I predicted that there is some sort of gap in the counts of one ethnicity stopped over another. The way we measure success is by counting the amount of people stopped for each ethnicity then comparing the counts to see if there is a larger gap between two counts over the rest of the data."
   ]
  },
  {
   "cell_type": "code",
   "execution_count": null,
   "metadata": {},
   "outputs": [],
   "source": [
    "# place ethnicities in a list in order from most frequent to less\n",
    "# indexes 0-9 contain top 10 most frequent\n",
    "# indexes 27-36 contain top 10 less frequent\n",
    "ethnicities = df['Self-defined ethnicity'].value_counts().index.tolist()\n",
    "\n",
    "# place ethnicity counts in another list\n",
    "counts = df['Self-defined ethnicity'].value_counts().tolist()\n",
    "\n",
    "# create dataframe with 2 lists\n",
    "df_e = pd.DataFrame(list(zip(ethnicities, counts)), columns=['Ethnicity', 'Count'])"
   ]
  },
  {
   "cell_type": "markdown",
   "metadata": {},
   "source": [
    "## Top 10 enthnicities stopped and searched"
   ]
  },
  {
   "cell_type": "code",
   "execution_count": null,
   "metadata": {},
   "outputs": [],
   "source": [
    "# plot the top10 ethnicities stopped and searched\n",
    "df_e.loc[:9].plot(x = 'Ethnicity', y = 'Count', kind = 'barh', figsize = (10,5), title = 'Top 10 Ethnicities Stopped and Searched');"
   ]
  },
  {
   "cell_type": "markdown",
   "metadata": {},
   "source": [
    "Looking at the top 10 ethnicities stopped and searched it looks like there is a consistent increase in the counts between ethnicities. There is a huge spike however for the 'White - English/Welsh/Scottish/Northern Irish/British' ethnicity. It is possible that this race is an outlier among the rest of the data. We can double check this by creating a pie chart."
   ]
  },
  {
   "cell_type": "code",
   "execution_count": null,
   "metadata": {},
   "outputs": [],
   "source": [
    "label = df_e.loc[:9]['Ethnicity']\n",
    "y = df_e.loc[:9]['Count']\n",
    "f, a = plt.subplots(figsize = (20,8))\n",
    "a.pie(y, autopct='%1.1f%%', labels=label, explode=(0.1,0,0,0,0,0,0,0,0,0));\n",
    "plt.title('Percentage of Top 10 Ethnicities Stopped and Searched');\n",
    "plt.show();"
   ]
  },
  {
   "cell_type": "markdown",
   "metadata": {},
   "source": [
    "After creating this pie chart, we can now clearly see that the ethnicity 'White - English/Welsh/Scottish/Northern Irish/British' is an outlier and takes up almost half the pie chart."
   ]
  },
  {
   "cell_type": "markdown",
   "metadata": {},
   "source": [
    "## Top 10 ethnicities NOT stopped and searched (a.k.a. bottom 10)"
   ]
  },
  {
   "cell_type": "code",
   "execution_count": null,
   "metadata": {},
   "outputs": [],
   "source": [
    "# plot the bottom10 ethnicities stopped and searched\n",
    "df_e.loc[26:37].plot(x = 'Ethnicity', y = 'Count', kind = 'barh', figsize = (10,5), title = 'Top 10 Ethnicities NOT Stopped and Searched');"
   ]
  },
  {
   "cell_type": "markdown",
   "metadata": {},
   "source": [
    "Looking at the bottom 10 ethnicities stopped and searched it looks like there is a consistent increase in the counts between ethnicities. It doesn't look like there are any outliers, but we can analyze the data further by creating a pie chart."
   ]
  },
  {
   "cell_type": "code",
   "execution_count": null,
   "metadata": {},
   "outputs": [],
   "source": [
    "label = df_e.loc[26:37]['Ethnicity']\n",
    "y = df_e.loc[26:37]['Count']\n",
    "f, a = plt.subplots(figsize = (20,8))\n",
    "a.pie(y, autopct='%1.1f%%', labels=label);\n",
    "plt.title('Percentage of Top 10 Ethnicities NOT Stopped and Searched');\n",
    "plt.show();"
   ]
  },
  {
   "cell_type": "markdown",
   "metadata": {},
   "source": [
    "After creating this pie chart, we can see more clearly that there is in fact a consistent increase in the counts for each ethnicity."
   ]
  },
  {
   "cell_type": "markdown",
   "metadata": {},
   "source": [
    "After looking at both top 10 and bottom 10 we can see that the only clear gap between the counts (outlier) is with the ethnicity 'White - English/Welsh/Scottish/Northern Irish/British.' With this we can draw up two possible reasons as to why this ethnicity is an outlier when it comes to times they were stopped and searched. Either that ethnicity is the majority in the U.K. or that ethnicity is targeted by police more frequently."
   ]
  },
  {
   "cell_type": "markdown",
   "metadata": {},
   "source": [
    "# What age range is more likely to get stopped and searched?\n",
    "\n",
    "I predicted that people in their early 20’s get stopped and searched the most. The way we measure if our prediction was successful is by checking which age group has the higher percentage of being stopped and searched."
   ]
  },
  {
   "cell_type": "code",
   "execution_count": null,
   "metadata": {},
   "outputs": [],
   "source": [
    "# places age ranges in a list in order from most frequent to less\n",
    "ageRange = df['Age range'].value_counts().index.tolist()\n",
    "\n",
    "# place age range counts in another list\n",
    "count = df['Age range'].value_counts().tolist()\n",
    "\n",
    "# create dataframe with 2 lists\n",
    "df_a = pd.DataFrame(list(zip(ageRange, count)), columns=['Age range', 'Count'])"
   ]
  },
  {
   "cell_type": "markdown",
   "metadata": {},
   "source": [
    "## Bar Graph of Age Ranges Stopped and Searched"
   ]
  },
  {
   "cell_type": "code",
   "execution_count": null,
   "metadata": {},
   "outputs": [],
   "source": [
    "# plot the age ranges that were stopped and searched\n",
    "df_a.plot(x = 'Age range', y = 'Count', kind = 'barh', figsize = (10,5), title = 'Age Ranges That Were Stopped and Searched');"
   ]
  },
  {
   "cell_type": "markdown",
   "metadata": {},
   "source": [
    "After creating this bar graph, you can clearly see that the age range that gets stopped and searched the most is 18-24. Not only are they the most stopped and searched but the gap between this age range and the others is greater than the gaps between the other age ranges."
   ]
  },
  {
   "cell_type": "markdown",
   "metadata": {},
   "source": [
    "## Pie Chart of Age Ranges Stopped and Searched"
   ]
  },
  {
   "cell_type": "code",
   "execution_count": null,
   "metadata": {},
   "outputs": [],
   "source": [
    "l = df_a['Age range']\n",
    "y = df_a['Count']\n",
    "x, r = plt.subplots(figsize = (20,8))\n",
    "r.pie(y, autopct='%1.1f%%', labels=l, explode=(0.1,0,0,0,0));\n",
    "plt.legend(bbox_to_anchor=(1,0.9))\n",
    "plt.title('Percentage of Age Ranges Stopped and Searched');\n",
    "plt.show();"
   ]
  },
  {
   "cell_type": "markdown",
   "metadata": {},
   "source": [
    "After creating the pie chart, you can see clearly that the age range 18-24 takes up more than a third of the total amount of people stopped and searched. All other age ranges take up less than a quarter of the total."
   ]
  },
  {
   "cell_type": "markdown",
   "metadata": {},
   "source": [
    "## Locations of Age Ranges Being Stopped and Searched"
   ]
  },
  {
   "cell_type": "code",
   "execution_count": null,
   "metadata": {},
   "outputs": [],
   "source": [
    "# create separate dataframes for each age range\n",
    "df_under10 = df[df['Age range'] == 'under 10'].copy()\n",
    "df_under10 = df_under10[['Age range','Longitude','Latitude']].dropna()\n",
    "\n",
    "df_10_17 = df[df['Age range'] == '10-17'].copy()\n",
    "df_10_17 = df_10_17[['Age range','Longitude','Latitude']].dropna()\n",
    "\n",
    "df_18_24 = df[df['Age range'] == '18-24'].copy()\n",
    "df_18_24 = df_18_24[['Age range','Longitude','Latitude']].dropna()\n",
    "\n",
    "df_25_34 = df[df['Age range'] == '25-34'].copy()\n",
    "df_25_34 = df_25_34[['Age range','Longitude','Latitude']].dropna()\n",
    "\n",
    "df_over34 = df[df['Age range'] == 'over 34'].copy()\n",
    "df_over34 = df_over34[['Age range','Latitude','Longitude']].dropna()"
   ]
  },
  {
   "cell_type": "code",
   "execution_count": null,
   "metadata": {},
   "outputs": [],
   "source": [
    "# create coordinates\n",
    "coor = (53, -3);\n",
    "\n",
    "# create map variable\n",
    "age_map = Map(location=coor, zoom_start=6, tiles='Stamen Watercolor');\n",
    "\n",
    "# create marker cluster variables for each age range\n",
    "under10 = FastMarkerCluster(df_under10[['Latitude', 'Longitude']].values.tolist());\n",
    "r10_17 = FastMarkerCluster(df_10_17[['Latitude', 'Longitude']].values.tolist());\n",
    "r18_24 = FastMarkerCluster(df_18_24[['Latitude', 'Longitude']].values.tolist());\n",
    "r25_34 = FastMarkerCluster(df_25_34[['Latitude', 'Longitude']].values.tolist());\n",
    "over34 = FastMarkerCluster(df_over34[['Latitude', 'Longitude']].values.tolist());\n",
    "\n",
    "# create feature groups for map filtering\n",
    "under10f = FeatureGroup(name='under 10');\n",
    "r10_17f = FeatureGroup(name='10-17');\n",
    "r18_24f = FeatureGroup(name='18-24');\n",
    "r25_34f = FeatureGroup(name='25-34');\n",
    "over34f = FeatureGroup(name='over 34');"
   ]
  },
  {
   "cell_type": "code",
   "execution_count": null,
   "metadata": {},
   "outputs": [],
   "source": [
    "# add clusters to feature groups\n",
    "under10f.add_child(under10);\n",
    "r10_17f.add_child(r10_17);\n",
    "r18_24f.add_child(r18_24);\n",
    "r25_34f.add_child(r25_34);\n",
    "over34f.add_child(over34);\n",
    "        \n",
    "# add feature groups to the map\n",
    "age_map.add_child(under10f);\n",
    "age_map.add_child(r10_17f);\n",
    "age_map.add_child(r18_24f);\n",
    "age_map.add_child(r25_34f);\n",
    "age_map.add_child(over34f);\n",
    "\n",
    "# add Layer Control\n",
    "age_map.add_child(LayerControl())\n",
    "\n",
    "# display map\n",
    "display(age_map);"
   ]
  },
  {
   "cell_type": "markdown",
   "metadata": {},
   "source": [
    "After creating the map, you can see that for the age range 'under 10' they were stopped and searched in the areas of England and Wales. There was no one under the age of 10 stopped in Northern Ireland or Scotland. All other age ranges were stopped and searched in all four locations."
   ]
  },
  {
   "cell_type": "code",
   "execution_count": null,
   "metadata": {},
   "outputs": [],
   "source": []
  }
 ],
 "metadata": {
  "kernelspec": {
   "display_name": "Python 3",
   "language": "python",
   "name": "python3"
  },
  "language_info": {
   "codemirror_mode": {
    "name": "ipython",
    "version": 3
   },
   "file_extension": ".py",
   "mimetype": "text/x-python",
   "name": "python",
   "nbconvert_exporter": "python",
   "pygments_lexer": "ipython3",
   "version": "3.7.4"
  }
 },
 "nbformat": 4,
 "nbformat_minor": 4
}
